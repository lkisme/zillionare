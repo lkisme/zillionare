{
 "cells": [
  {
   "cell_type": "code",
   "execution_count": null,
   "id": "dcc5fa68",
   "metadata": {},
   "outputs": [],
   "source": [
    "from concurrent.futures import ThreadPoolExecutor\n",
    "import threading\n",
    "import time\n",
    "\n",
    "# 定义一个准备作为线程任务的函数\n",
    "def action(max):\n",
    "    my_sum = 0\n",
    "    for i in range(max):\n",
    "        print(threading.current_thread().name + '  ' + str(i))\n",
    "        my_sum += i\n",
    "    return my_sum\n",
    "# 创建一个包含2条线程的线程池\n",
    "pool = ThreadPoolExecutor(max_workers=20)\n",
    "# 向线程池提交一个task, 50会作为action()函数的参数\n",
    "future1 = pool.submit(action, 50)\n",
    "# 向线程池再提交一个task, 100会作为action()函数的参数\n",
    "future2 = pool.submit(action, 100)\n",
    "# 判断future1代表的任务是否结束\n",
    "print(future1.done())\n",
    "time.sleep(3)\n",
    "# 判断future2代表的任务是否结束\n",
    "print(future2.done())\n",
    "# 查看future1代表的任务返回的结果\n",
    "print(future1.result())\n",
    "# 查看future2代表的任务返回的结果\n",
    "print(future2.result())\n",
    "# 关闭线程池\n",
    "pool.shutdown()"
   ]
  }
 ],
 "metadata": {
  "kernelspec": {
   "display_name": "Python 3 (ipykernel)",
   "language": "python",
   "name": "python3"
  },
  "language_info": {
   "codemirror_mode": {
    "name": "ipython",
    "version": 3
   },
   "file_extension": ".py",
   "mimetype": "text/x-python",
   "name": "python",
   "nbconvert_exporter": "python",
   "pygments_lexer": "ipython3",
   "version": "3.8.10"
  }
 },
 "nbformat": 4,
 "nbformat_minor": 5
}
