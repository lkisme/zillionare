{
 "cells": [
  {
   "cell_type": "markdown",
   "metadata": {},
   "source": [
    "我们已经讨论了如何获取相关证券数据（特别是行情数据），如何编写简单的策略（也给出了一个有效的策略，或者说因子），以及如何将数据可视化--这使得我们可以更好地探索新的策略，以及更加直观地解释我们的策略。\n",
    "\n",
    "我们最终的目标是为了接入市场并从中获利，因此，我们不能永远停留在模拟阶段。现在我们来讨论如何接入实盘交易。"
   ]
  },
  {
   "cell_type": "markdown",
   "metadata": {},
   "source": [
    "**这一章里我将不会提供面向实际应用的任何代码，其原因是不言而喻的。尽管这种情况可能最终会改变，但截止目前为止，任何第三方接入实盘交易的方式都是不被允许的**\n",
    "\n",
    "在这一章里，我们只讨论那些接入实盘的渠道，以及如果你希望进行一些个人研究的话，哪些技术有可能帮助你。"
   ]
  },
  {
   "cell_type": "markdown",
   "metadata": {},
   "source": [
    "# 官方接口\n",
    "\n",
    "\n",
    "据行业内的朋友推荐，中泰证券提供有交易接口，被称作XTP。\n",
    "\n",
    "[XTP](https://xtp.zts.com.cn/docs/trade/index.html)官方只提供了c++的交易接口实现，但其网页上有推荐的其它语言的实现，比如[Python实现](https://github.com/ztsec/xtp_api_python)。\n",
    "\n",
    "按照相关规定，券商是可以提供支持程序交易的实盘接口的，但是你的代码必须部署在券商提供的机房里。不知道XTP是否也有这种限制，大家可以自己尝试一下。"
   ]
  },
  {
   "cell_type": "markdown",
   "metadata": {},
   "source": [
    "# 利用在线平台接入\n",
    "\n",
    "这里再次推荐聚宽。聚宽提供了免费的在线量化平台，并与第一证券合作，提供了实盘交易。所以你可以直接在聚宽上开发策略并且完成实盘交易。\n",
    "\n",
    "根据聚宽的说明文档，他们在保证客户[策略安全性](https://www.joinquant.com/help/api/help?name=api#%E5%AE%89%E5%85%A8)上下了很多功夫，所以在上面开发策略是完全可以放心的。此外，聚宽量化平台还提供了行情数据、财务数据和计算资源，目前都是免费的。\n",
    "\n",
    "# 各种模拟客户端的交易方案\n",
    "\n",
    "除上述方式外，既然各种证券客户端都可以进行交易，显然，应该可以使用各种模拟客户端、或者类似于键盘精灵类的键鼠驱动程序来实现实盘交易。\n",
    "\n",
    "这里推荐下[easytrader](https://easytrader.readthedocs.io/zh/master/)，在github上有4.4k star，应该是比较成熟的方案了。\n",
    "\n",
    "![](http://images.jieyu.ai/images/2020-10/20201025173108.png)\n",
    "![](http://images.jieyu.ai/images/2020-10/20201025173154.png)"
   ]
  },
  {
   "cell_type": "markdown",
   "metadata": {},
   "source": [
    "# 基于爬虫的方案\n",
    "\n",
    "你可能还想自己实现一个简单、但可控安全的实盘交易方案。如果你的开户券商是东方财富，那么你可以使用爬虫来自行实现交易接口。\n",
    "\n",
    "下图显示了东方财富提供了网页交易入口：\n",
    "\n",
    "![](http://images.jieyu.ai/images/2020-10/20201025173416.png)\n",
    "\n",
    "这个入口地址是：https://jy.xzsec.com/\n",
    "\n",
    "从入口登录后，就会进入到交易界面：\n",
    "\n",
    "![](http://images.jieyu.ai/images/2020-10/20201025173556.png)\n",
    "\n",
    "如果你尝试做一个交易并且提交的话（*！请注意这是实盘！*），你会发现网页会向服务端发起一个简单的post请求。总共包含以下字段：\n",
    "\n",
    "```\n",
    "stockCode=600600&price=70.00&amount=100&tradeType=B&zqmc=xxxxxx\n",
    "```\n",
    "\n",
    "这里的zqmc是某种安全机制，它由浏览器中运行的js来生成。因此，使用request库这样的简单爬虫是无法突破这个安全机制的，必须使用selenium这样的模拟客户端，这样可以完全仿真浏览器，运行js代码以完成验证。\n",
    "\n",
    "我最终推荐的技术方案是pyppeteer。如果你可以进行nodejs开发的话，就使用Puppeteer。selenium是一个成熟的方案，但性能和易用性都不及Pyppeteer。Pyppeteer是nodejs爬虫神器puppeteer的Python移植版。\n",
    "\n",
    "顺便提句题外话，如果你对破解js感兴趣，可以参考我的这篇文章：[如何破解js加密算法](https://zhuanlan.zhihu.com/p/32139007)"
   ]
  },
  {
   "cell_type": "code",
   "execution_count": null,
   "metadata": {},
   "outputs": [],
   "source": []
  }
 ],
 "metadata": {
  "kernelspec": {
   "display_name": "alpha",
   "language": "python",
   "name": "alpha"
  },
  "language_info": {
   "codemirror_mode": {
    "name": "ipython",
    "version": 3
   },
   "file_extension": ".py",
   "mimetype": "text/x-python",
   "name": "python",
   "nbconvert_exporter": "python",
   "pygments_lexer": "ipython3",
   "version": "3.8.5"
  },
  "toc": {
   "base_numbering": 1,
   "nav_menu": {},
   "number_sections": true,
   "sideBar": true,
   "skip_h1_title": false,
   "title_cell": "Table of Contents",
   "title_sidebar": "Contents",
   "toc_cell": false,
   "toc_position": {
    "height": "calc(100% - 180px)",
    "left": "10px",
    "top": "150px",
    "width": "301px"
   },
   "toc_section_display": true,
   "toc_window_display": true
  }
 },
 "nbformat": 4,
 "nbformat_minor": 4
}
